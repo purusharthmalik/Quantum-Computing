{
 "cells": [
  {
   "cell_type": "markdown",
   "id": "f9f7e613",
   "metadata": {},
   "source": [
    "# Lab - 1\n",
    "\n",
    "Name: Purusharth Malik\n",
    "\n",
    "Registration No.: 2348542"
   ]
  },
  {
   "cell_type": "markdown",
   "id": "d34ce789",
   "metadata": {},
   "source": [
    "### Represent qubit state vector in matrix notation\n",
    "\n",
    "We will create 2 vectors, the plus vector and a random vector."
   ]
  },
  {
   "cell_type": "code",
   "execution_count": 45,
   "id": "3f27e539",
   "metadata": {},
   "outputs": [
    {
     "name": "stdout",
     "output_type": "stream",
     "text": [
      "+ state vector:\n"
     ]
    },
    {
     "data": {
      "text/latex": [
       "$$\\frac{\\sqrt{2}}{2} |0\\rangle+\\frac{\\sqrt{2}}{2} |1\\rangle$$"
      ],
      "text/plain": [
       "<IPython.core.display.Latex object>"
      ]
     },
     "metadata": {},
     "output_type": "display_data"
    },
    {
     "data": {
      "text/plain": [
       "[0.70710678+0.j,0.70710678+0.j]"
      ]
     },
     "metadata": {},
     "output_type": "display_data"
    },
    {
     "name": "stdout",
     "output_type": "stream",
     "text": [
      "Random state vector:\n"
     ]
    },
    {
     "data": {
      "text/latex": [
       "$$\\frac{1}{4} |0\\rangle- \\frac{4}{7} |1\\rangle$$"
      ],
      "text/plain": [
       "<IPython.core.display.Latex object>"
      ]
     },
     "metadata": {},
     "output_type": "display_data"
    },
    {
     "data": {
      "text/plain": [
       "[ 0.25      +0.j,-0.57142857+0.j]"
      ]
     },
     "metadata": {},
     "output_type": "display_data"
    }
   ],
   "source": [
    "from qiskit_aer import AerSimulator\n",
    "from qiskit import transpile, QuantumCircuit\n",
    "from qiskit.quantum_info import Statevector\n",
    "from qiskit.visualization import plot_histogram\n",
    "import numpy as np\n",
    "\n",
    "# Defining the + quantum state vector\n",
    "alpha = 1/np.sqrt(2)\n",
    "beta = 1/np.sqrt(2)\n",
    "state_vector = Statevector([[alpha], [beta]])\n",
    "\n",
    "# Defining a random vector\n",
    "random_vector = Statevector([[1/4], [-4/7]])\n",
    "\n",
    "print(\"+ state vector:\")\n",
    "display(state_vector.draw('latex'))\n",
    "display(state_vector.draw('text'))\n",
    "print(\"Random state vector:\")\n",
    "display(random_vector.draw('latex'))\n",
    "display(random_vector.draw('text'))"
   ]
  },
  {
   "cell_type": "markdown",
   "id": "07cf505d",
   "metadata": {},
   "source": [
    "### Define and display state vectors and check their validity\n",
    "\n",
    "For any quantum state to be valid, the probability of measuring all the states should sum upto 1. \n",
    "\n",
    "The probabilites can be calculated using Born rule."
   ]
  },
  {
   "cell_type": "code",
   "execution_count": 39,
   "id": "d828ca23",
   "metadata": {},
   "outputs": [
    {
     "name": "stdout",
     "output_type": "stream",
     "text": [
      "Norm of the + state vector: (0.9999999999999998+0j)\n",
      "The qubit state is valid.\n",
      "\n",
      "Norm of then random vector: (0.38903061224489793+0j)\n",
      "The qubit state is invalid.\n"
     ]
    }
   ],
   "source": [
    "# Checking the validity of the state vector\n",
    "data = state_vector.data\n",
    "norm = data[0]**2 + data[1]**2\n",
    "print(\"Norm of the + state vector:\", norm)\n",
    "\n",
    "if np.isclose(norm, 1):\n",
    "    print(\"The qubit state is valid.\")\n",
    "else:\n",
    "    print(\"The qubit state is invalid.\")\n",
    "    \n",
    "data = random_vector.data\n",
    "norm = data[0]**2 + data[1]**2\n",
    "print(\"\\nNorm of then random vector:\", norm)\n",
    "\n",
    "if np.isclose(norm, 1):\n",
    "    print(\"The qubit state is valid.\")\n",
    "else:\n",
    "    print(\"The qubit state is invalid.\")"
   ]
  },
  {
   "cell_type": "code",
   "execution_count": 36,
   "id": "b8948b7c",
   "metadata": {},
   "outputs": [
    {
     "data": {
      "text/plain": [
       "(True, False)"
      ]
     },
     "execution_count": 36,
     "metadata": {},
     "output_type": "execute_result"
    }
   ],
   "source": [
    "# Another way to check the validity\n",
    "state_vector.is_valid(), random_vector.is_valid()"
   ]
  },
  {
   "cell_type": "markdown",
   "id": "43e31812",
   "metadata": {},
   "source": [
    "### Simulate measurements and visualise the result\n",
    "\n",
    "Here, we will create a single qubit quantum circuit and initialize it with the `+` quantum state vector.\n",
    "\n",
    "Then, we will perform measurement 1024 times and visualize the results."
   ]
  },
  {
   "cell_type": "code",
   "execution_count": 59,
   "id": "13ea73f5",
   "metadata": {},
   "outputs": [
    {
     "name": "stdout",
     "output_type": "stream",
     "text": [
      "        ┌─────────────────────────────┐ ░ ┌─┐\n",
      "     q: ┤ Initialize(0.70711,0.70711) ├─░─┤M├\n",
      "        └─────────────────────────────┘ ░ └╥┘\n",
      "meas: 1/═══════════════════════════════════╩═\n",
      "                                           0 \n",
      "Measurement results: {'1': 510, '0': 514}\n"
     ]
    },
    {
     "data": {
      "image/png": "[encoded data removed]",
      "text/plain": [
       "<Figure size 640x480 with 1 Axes>"
      ]
     },
     "execution_count": 59,
     "metadata": {},
     "output_type": "execute_result"
    }
   ],
   "source": [
    "# Creating a quantum circuit\n",
    "qc = QuantumCircuit(1)\n",
    "# Initializing the qubit with the state vector\n",
    "qc.initialize(state_vector, 0)\n",
    "\n",
    "# Simulating measurement\n",
    "qc.measure_all()\n",
    "\n",
    "# Use the Qiskit Aer simulator to simulate the measurement results\n",
    "simulator = AerSimulator()\n",
    "compiled_circuit = transpile(qc, simulator)\n",
    "print(compiled_circuit)\n",
    "results = simulator.run(compiled_circuit).result()\n",
    "counts = results.get_counts()\n",
    "\n",
    "# Visualize the measurement results\n",
    "print(\"Measurement results:\", counts)\n",
    "plot_histogram(counts)"
   ]
  },
  {
   "cell_type": "markdown",
   "id": "bb1a4e7d",
   "metadata": {},
   "source": [
    "# End"
   ]
  }
 ],
 "metadata": {
  "kernelspec": {
   "display_name": "Python 3 (ipykernel)",
   "language": "python",
   "name": "python3"
  },
  "language_info": {
   "codemirror_mode": {
    "name": "ipython",
    "version": 3
   },
   "file_extension": ".py",
   "mimetype": "text/x-python",
   "name": "python",
   "nbconvert_exporter": "python",
   "pygments_lexer": "ipython3",
   "version": "3.11.9"
  }
 },
 "nbformat": 4,
 "nbformat_minor": 5
}
