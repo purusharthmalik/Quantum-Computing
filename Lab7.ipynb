{
 "cells": [
  {
   "cell_type": "markdown",
   "metadata": {},
   "source": [
    "# Lab - 7\n",
    "\n",
    "Name: Purusharth Malik\n",
    "\n",
    "Registration No.: 2348542"
   ]
  },
  {
   "cell_type": "markdown",
   "metadata": {},
   "source": [
    "### Implementation of Deutsch's algorithm "
   ]
  },
  {
   "cell_type": "code",
   "execution_count": 3,
   "metadata": {},
   "outputs": [],
   "source": [
    "from qiskit import QuantumCircuit\n",
    "from qiskit_aer import Aer"
   ]
  },
  {
   "cell_type": "code",
   "execution_count": 4,
   "metadata": {},
   "outputs": [],
   "source": [
    "def deutsch_function(case):\n",
    "    if case not in [1, 2, 3, 4]:\n",
    "        raise ValueError(\"'case' must be 1, 2, 3, or 4.\")\n",
    "    f = QuantumCircuit(2)\n",
    "    if case in [2, 3]:\n",
    "        f.cx(0, 1)\n",
    "    if case in [3, 4]:\n",
    "        f.x(1)\n",
    "    return f"
   ]
  },
  {
   "cell_type": "markdown",
   "metadata": {},
   "source": [
    "### Plug in one of the four circuits defined by the deutsch_function and display the circuit."
   ]
  },
  {
   "cell_type": "code",
   "execution_count": 5,
   "metadata": {},
   "outputs": [
    {
     "name": "stdout",
     "output_type": "stream",
     "text": [
      "Function Circuit (Case 3):\n",
      "          \n",
      "q_0: ──■──\n",
      "     ┌─┴─┐\n",
      "q_1: ┤ X ├\n",
      "     └───┘\n"
     ]
    }
   ],
   "source": [
    "f = deutsch_function(2)  # Case 2: f(x) = x\n",
    "\n",
    "print(\"Function Circuit (Case 3):\")\n",
    "print(f.draw('text'))"
   ]
  },
  {
   "cell_type": "markdown",
   "metadata": {},
   "source": [
    "### Finally, create a function that runs the circuit  one time and outputs the appropriate result: \"constant\" or \"balanced\""
   ]
  },
  {
   "cell_type": "code",
   "execution_count": 7,
   "metadata": {},
   "outputs": [
    {
     "name": "stdout",
     "output_type": "stream",
     "text": [
      "\n",
      "Deutsch Algorithm Circuit:\n",
      "     ┌───┐      ░       ░ ┌───┐┌─┐\n",
      "q_0: ┤ H ├──────░───■───░─┤ H ├┤M├\n",
      "     ├───┤┌───┐ ░ ┌─┴─┐ ░ └───┘└╥┘\n",
      "q_1: ┤ X ├┤ H ├─░─┤ X ├─░───────╫─\n",
      "     └───┘└───┘ ░ └───┘ ░       ║ \n",
      "c: 1/═══════════════════════════╩═\n",
      "                                0 \n",
      "\n",
      "The function is balanced.\n"
     ]
    }
   ],
   "source": [
    "def compile_circuit(function: QuantumCircuit):\n",
    "    n = function.num_qubits - 1 \n",
    "    qc = QuantumCircuit(n + 1, n)  \n",
    "    qc.x(n)  \n",
    "    qc.h(range(n + 1))  \n",
    "    qc.barrier()\n",
    "    qc.compose(function, qubits=range(n + 1), inplace=True)  \n",
    "    qc.barrier()\n",
    "    qc.h(range(n))  \n",
    "    qc.measure(range(n), range(n))  \n",
    "    return qc\n",
    "\n",
    "def run(function: QuantumCircuit):\n",
    "    qc = compile_circuit(function)\n",
    "    simulator = Aer.get_backend('aer_simulator')\n",
    "    result = simulator.run(qc, shots=1, memory=True).result()\n",
    "    measurements = result.get_memory()\n",
    "    if measurements[0] == '0' * (function.num_qubits - 1):\n",
    "        return \"constant\"\n",
    "    else:\n",
    "        return \"balanced\"\n",
    "    \n",
    "qc = compile_circuit(f)\n",
    "print(\"\\nDeutsch Algorithm Circuit:\")\n",
    "print(qc.draw('text'))\n",
    "\n",
    "result = run(f)\n",
    "print(f\"\\nThe function is {result}.\")"
   ]
  },
  {
   "cell_type": "markdown",
   "metadata": {},
   "source": [
    "# End"
   ]
  }
 ],
 "metadata": {
  "kernelspec": {
   "display_name": "dragon",
   "language": "python",
   "name": "python3"
  },
  "language_info": {
   "codemirror_mode": {
    "name": "ipython",
    "version": 3
   },
   "file_extension": ".py",
   "mimetype": "text/x-python",
   "name": "python",
   "nbconvert_exporter": "python",
   "pygments_lexer": "ipython3",
   "version": "3.12.7"
  }
 },
 "nbformat": 4,
 "nbformat_minor": 2
}
