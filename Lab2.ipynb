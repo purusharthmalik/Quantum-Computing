{
 "cells": [
  {
   "cell_type": "markdown",
   "id": "046afbe7",
   "metadata": {},
   "source": [
    "# Lab - 2\n",
    "\n",
    "Name: Purusharth Malik\n",
    "\n",
    "Registration No.: 2348542"
   ]
  },
  {
   "cell_type": "markdown",
   "id": "20132730",
   "metadata": {},
   "source": [
    "### Perform the operation X, Y, Z, H, S, T \n",
    "### Execute the operations on a state vector.\n",
    "### Draw a simple circuit for these operation.\n",
    "### Finally,  simulate the result of running this experiment  10000 times."
   ]
  },
  {
   "cell_type": "code",
   "execution_count": 7,
   "id": "f4b1825e",
   "metadata": {},
   "outputs": [
    {
     "name": "stdout",
     "output_type": "stream",
     "text": [
      "Quantum Circuit:\n"
     ]
    },
    {
     "data": {
      "image/png": "[encoded data removed]",
      "text/plain": [
       "<Figure size 603.508x200.667 with 1 Axes>"
      ]
     },
     "execution_count": 7,
     "metadata": {},
     "output_type": "execute_result"
    }
   ],
   "source": [
    "from qiskit_aer import AerSimulator\n",
    "from qiskit import QuantumCircuit, transpile\n",
    "from qiskit.visualization import plot_histogram\n",
    "from qiskit.quantum_info import Statevector\n",
    "import matplotlib.pyplot as plt\n",
    "\n",
    "# Creating a single-qubit system\n",
    "qc = QuantumCircuit(1, 1)\n",
    "\n",
    "qc.x(0)  # X gate\n",
    "qc.y(0)  # Y gate\n",
    "qc.z(0)  # Z gate\n",
    "qc.h(0)  # Hadamard gate\n",
    "qc.s(0)  # S gate\n",
    "qc.t(0)  # T gate\n",
    "\n",
    "print(\"Quantum Circuit:\")\n",
    "qc.draw('mpl')"
   ]
  },
  {
   "cell_type": "code",
   "execution_count": 8,
   "id": "8d0695f5",
   "metadata": {},
   "outputs": [
    {
     "name": "stdout",
     "output_type": "stream",
     "text": [
      "\n",
      "Final State Vector:\n",
      "Statevector([1.+0.j, 0.+0.j],\n",
      "            dims=(2,))\n",
      "\n",
      "Measurement Results:\n",
      "{'0 0': 507, '1 0': 517}\n",
      "\n",
      "Probability of measuring 00: 0.4951\n",
      "Probability of measuring 11: 0.5049\n"
     ]
    },
    {
     "data": {
      "image/png": "[encoded data removed]",
      "text/plain": [
       "<Figure size 640x480 with 1 Axes>"
      ]
     },
     "execution_count": 8,
     "metadata": {},
     "output_type": "execute_result"
    }
   ],
   "source": [
    "from qiskit.visualization import plot_histogram\n",
    "\n",
    "# Executing the operations on a state vector\n",
    "statevector = Statevector([1, 0])\n",
    "statevector.evolve(qc)\n",
    "print(\"\\nFinal State Vector:\")\n",
    "print(statevector)\n",
    "\n",
    "qc.measure_all()\n",
    "simulator = AerSimulator()\n",
    "compiled_circuit = transpile(qc, simulator)\n",
    "result = simulator.run(compiled_circuit).result()\n",
    "counts = result.get_counts(qc)\n",
    "\n",
    "print(\"\\nMeasurement Results:\")\n",
    "print(counts)\n",
    "\n",
    "# Calculate probabilities\n",
    "total_shots = sum(counts.values())\n",
    "prob_0 = counts.get('0 0', 0) / total_shots\n",
    "prob_1 = counts.get('1 0', 0) / total_shots\n",
    "\n",
    "print(f\"\\nProbability of measuring 00: {prob_0:.4f}\")\n",
    "print(f\"Probability of measuring 11: {prob_1:.4f}\")\n",
    "\n",
    "plot_histogram(counts)"
   ]
  },
  {
   "cell_type": "markdown",
   "id": "97a4c8d3",
   "metadata": {},
   "source": [
    "### Proof that R is square root of NOT  operation. where R is a Hadamard operation, followed by the S operation, followed by another Hadamard operation."
   ]
  },
  {
   "cell_type": "code",
   "execution_count": 10,
   "id": "d4eadfd3",
   "metadata": {},
   "outputs": [
    {
     "name": "stdout",
     "output_type": "stream",
     "text": [
      "R gate (H-S-H):\n",
      "Operator([[0.5+0.5j, 0.5-0.5j],\n",
      "          [0.5-0.5j, 0.5+0.5j]],\n",
      "         input_dims=(2,), output_dims=(2,))\n",
      "\n",
      "R^2:\n",
      "Operator([[0.-2.46519033e-32j, 1.+0.00000000e+00j],\n",
      "          [1.+0.00000000e+00j, 0.+2.46519033e-32j]],\n",
      "         input_dims=(2,), output_dims=(2,))\n",
      "\n",
      "X gate (NOT):\n",
      "Operator([[0.+0.j, 1.+0.j],\n",
      "          [1.+0.j, 0.+0.j]],\n",
      "         input_dims=(2,), output_dims=(2,))\n",
      "\n",
      "Is R the square root of NOT? True\n",
      "\n",
      "Applying R^2 to |0⟩:\n",
      "Statevector([0.+0.j, 1.+0.j],\n",
      "            dims=(2,))\n",
      "\n",
      "Applying R^2 to |1⟩:\n",
      "Statevector([1.+0.j, 0.+0.j],\n",
      "            dims=(2,))\n"
     ]
    }
   ],
   "source": [
    "from qiskit import QuantumCircuit\n",
    "from qiskit.quantum_info import Operator\n",
    "\n",
    "# Function to create the R gate\n",
    "def R_gate():\n",
    "    qc = QuantumCircuit(1)\n",
    "    qc.h(0)\n",
    "    qc.s(0)\n",
    "    qc.h(0)\n",
    "    return Operator(qc)\n",
    "\n",
    "R = R_gate()\n",
    "\n",
    "# Creating the X gate (NOT operation)\n",
    "X = Operator.from_label('X')\n",
    "\n",
    "# Computing R^2\n",
    "R_squared = R.compose(R)\n",
    "\n",
    "# Checking if R^2 is equal to X (NOT)\n",
    "is_sqrt_not = R_squared.equiv(X)\n",
    "\n",
    "print(\"R gate (H-S-H):\")\n",
    "print(R)\n",
    "\n",
    "print(\"\\nR^2:\")\n",
    "print(R_squared)\n",
    "\n",
    "print(\"\\nX gate (NOT):\")\n",
    "print(X)\n",
    "\n",
    "print(f\"\\nIs R the square root of NOT? {is_sqrt_not}\")\n",
    "\n",
    "# Demonstrate R^2 is NOT on |0⟩ and |1⟩ states\n",
    "qc_0 = QuantumCircuit(1)\n",
    "qc_0.append(R, [0])\n",
    "qc_0.append(R, [0])\n",
    "\n",
    "qc_1 = QuantumCircuit(1)\n",
    "qc_1.x(0)  # Start with |1⟩\n",
    "qc_1.append(R, [0])\n",
    "qc_1.append(R, [0])\n",
    "\n",
    "print(\"\\nApplying R^2 to |0⟩:\")\n",
    "print(Statevector.from_instruction(qc_0))\n",
    "\n",
    "print(\"\\nApplying R^2 to |1⟩:\")\n",
    "print(Statevector.from_instruction(qc_1))"
   ]
  },
  {
   "cell_type": "markdown",
   "id": "6c7e756f",
   "metadata": {},
   "source": [
    "We have also demonstrated that $\\text{R}^{2}$ does behave exactly like a `NOT` gate when applied to the ket 0 and ket 1 statevectors."
   ]
  },
  {
   "cell_type": "markdown",
   "id": "9b52e103",
   "metadata": {},
   "source": [
    "# End"
   ]
  }
 ],
 "metadata": {
  "kernelspec": {
   "display_name": "Python 3 (ipykernel)",
   "language": "python",
   "name": "python3"
  },
  "language_info": {
   "codemirror_mode": {
    "name": "ipython",
    "version": 3
   },
   "file_extension": ".py",
   "mimetype": "text/x-python",
   "name": "python",
   "nbconvert_exporter": "python",
   "pygments_lexer": "ipython3",
   "version": "3.11.9"
  }
 },
 "nbformat": 4,
 "nbformat_minor": 5
}
