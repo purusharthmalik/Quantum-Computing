{
 "cells": [
  {
   "cell_type": "markdown",
   "id": "a6c685f5",
   "metadata": {},
   "source": [
    "# Lab - 3\n",
    "\n",
    "Name: Purusharth Malik\n",
    "\n",
    "Registration No.: 2348542"
   ]
  },
  {
   "cell_type": "markdown",
   "id": "a67ba604",
   "metadata": {},
   "source": [
    "### Perform tensor product of two vectors and represent."
   ]
  },
  {
   "cell_type": "code",
   "execution_count": 31,
   "id": "14b7ad9b",
   "metadata": {},
   "outputs": [
    {
     "name": "stdout",
     "output_type": "stream",
     "text": [
      "Vector a: [1 0]\n",
      "Vector b: [0 1]\n",
      "Tensor product:\n"
     ]
    },
    {
     "data": {
      "text/plain": [
       "array([[0, 1],\n",
       "       [0, 0]])"
      ]
     },
     "execution_count": 31,
     "metadata": {},
     "output_type": "execute_result"
    }
   ],
   "source": [
    "import numpy as np\n",
    "\n",
    "a = np.array([1, 0])\n",
    "b = np.array([0, 1])\n",
    "\n",
    "tensor_product = np.kron(a, b)\n",
    "\n",
    "print(\"Vector a:\", a)\n",
    "print(\"Vector b:\", b)\n",
    "print(\"Tensor product:\")\n",
    "tensor_product.reshape(len(a), -1)"
   ]
  },
  {
   "cell_type": "markdown",
   "id": "f3b8611e",
   "metadata": {},
   "source": [
    "Using Qiskit,"
   ]
  },
  {
   "cell_type": "code",
   "execution_count": 32,
   "id": "56544d10",
   "metadata": {},
   "outputs": [
    {
     "name": "stdout",
     "output_type": "stream",
     "text": [
      "Tensor Product: \n",
      "Statevector([0.+0.j, 1.+0.j, 0.+0.j, 0.+0.j],\n",
      "            dims=(2, 2))\n"
     ]
    }
   ],
   "source": [
    "from qiskit.quantum_info import Statevector\n",
    "\n",
    "q1 = Statevector([1, 0])\n",
    "q2 = Statevector([0, 1])\n",
    "\n",
    "print(\"Tensor Product: \")\n",
    "q1 ^ q2"
   ]
  },
  {
   "cell_type": "markdown",
   "id": "2e2c3396",
   "metadata": {},
   "source": [
    "### Create any operator and execute on state vector and finally do the partial measure"
   ]
  },
  {
   "cell_type": "code",
   "execution_count": 43,
   "id": "58654444",
   "metadata": {},
   "outputs": [
    {
     "name": "stdout",
     "output_type": "stream",
     "text": [
      "Quantum Circuit:\n",
      "     ┌───┐     ┌─┐\n",
      "q_0: ┤ H ├──■──┤M├\n",
      "     └───┘┌─┴─┐└╥┘\n",
      "q_1: ─────┤ X ├─╫─\n",
      "          └───┘ ║ \n",
      "c: 1/═══════════╩═\n",
      "                0 \n",
      "\n",
      "Partial Measurement results:\n",
      "{'1': 494, '0': 530}\n",
      "\n",
      "Probability of measuring 0 on the first qubit: 0.52\n",
      "Probability of measuring 1 on the first qubit: 0.48\n"
     ]
    }
   ],
   "source": [
    "from qiskit_aer import AerSimulator\n",
    "from qiskit import QuantumCircuit, QuantumRegister, transpile\n",
    "\n",
    "q = QuantumRegister(2, 'q')\n",
    "\n",
    "# Create a quantum circuit\n",
    "qc = QuantumCircuit(q, c)\n",
    "\n",
    "# Applying Hadamard gate to the first qubit\n",
    "qc.h(q[0])\n",
    "\n",
    "# Applying CNOT gate with the first qubit as control and second as target\n",
    "qc.cx(q[0], q[1])\n",
    "\n",
    "# Measuring only the first qubit (partial measurement)\n",
    "qc.measure(q[0], c[0])\n",
    "\n",
    "simulator = AerSimulator()\n",
    "compiled_circuit = transpile(qc, simulator)\n",
    "result = simulator.run(compiled_circuit).result()\n",
    "\n",
    "counts = result.get_counts(qc)\n",
    "\n",
    "print(\"Quantum Circuit:\")\n",
    "print(qc)\n",
    "print(\"\\nPartial Measurement results:\")\n",
    "print(counts)\n",
    "\n",
    "# Calculate probabilities\n",
    "total_shots = sum(counts.values())\n",
    "prob_0 = counts.get('0', 0) / total_shots\n",
    "prob_1 = counts.get('1', 0) / total_shots\n",
    "\n",
    "print(f\"\\nProbability of measuring 0 on the first qubit: {prob_0:.2f}\")\n",
    "print(f\"Probability of measuring 1 on the first qubit: {prob_1:.2f}\")\n"
   ]
  },
  {
   "cell_type": "markdown",
   "id": "005a80d4",
   "metadata": {},
   "source": [
    "### Derive the matrix representation of CSWAP and also the Dirac notation"
   ]
  },
  {
   "cell_type": "code",
   "execution_count": 46,
   "id": "2cac30ca",
   "metadata": {},
   "outputs": [
    {
     "name": "stdout",
     "output_type": "stream",
     "text": [
      "CSWAP Quantum Circuit:\n",
      "        \n",
      "q_0: ─■─\n",
      "      │ \n",
      "q_1: ─X─\n",
      "      │ \n",
      "q_2: ─X─\n",
      "        \n",
      "\n",
      "CSWAP matrix representation:\n",
      "[[1.+0.j 0.+0.j 0.+0.j 0.+0.j 0.+0.j 0.+0.j 0.+0.j 0.+0.j]\n",
      " [0.+0.j 1.+0.j 0.+0.j 0.+0.j 0.+0.j 0.+0.j 0.+0.j 0.+0.j]\n",
      " [0.+0.j 0.+0.j 1.+0.j 0.+0.j 0.+0.j 0.+0.j 0.+0.j 0.+0.j]\n",
      " [0.+0.j 0.+0.j 0.+0.j 0.+0.j 0.+0.j 1.+0.j 0.+0.j 0.+0.j]\n",
      " [0.+0.j 0.+0.j 0.+0.j 0.+0.j 1.+0.j 0.+0.j 0.+0.j 0.+0.j]\n",
      " [0.+0.j 0.+0.j 0.+0.j 1.+0.j 0.+0.j 0.+0.j 0.+0.j 0.+0.j]\n",
      " [0.+0.j 0.+0.j 0.+0.j 0.+0.j 0.+0.j 0.+0.j 1.+0.j 0.+0.j]\n",
      " [0.+0.j 0.+0.j 0.+0.j 0.+0.j 0.+0.j 0.+0.j 0.+0.j 1.+0.j]]\n",
      "\n",
      "CSWAP Dirac notation:\n",
      "\n",
      "CSWAP |x,y,z⟩ = |x, (1-x)y + xz, (1-x)z + xy⟩\n",
      "\n",
      "Expanded:\n",
      "CSWAP |0,y,z⟩ = |0,y,z⟩\n",
      "CSWAP |1,y,z⟩ = |1,z,y⟩\n",
      "\n"
     ]
    }
   ],
   "source": [
    "from qiskit import QuantumCircuit\n",
    "from qiskit.quantum_info import Operator\n",
    "\n",
    "qc = QuantumCircuit(3)\n",
    "\n",
    "qc.cswap(0, 1, 2)\n",
    "\n",
    "# Getting the matrix representation\n",
    "cswap_matrix = Operator(qc).data\n",
    "\n",
    "print(\"CSWAP Quantum Circuit:\")\n",
    "print(qc)\n",
    "print(\"\\nCSWAP matrix representation:\")\n",
    "print(cswap_matrix)\n",
    "\n",
    "# Dirac notation\n",
    "dirac_notation = \"\"\"\n",
    "CSWAP |x,y,z⟩ = |x, (1-x)y + xz, (1-x)z + xy⟩\n",
    "\n",
    "Expanded:\n",
    "CSWAP |0,y,z⟩ = |0,y,z⟩\n",
    "CSWAP |1,y,z⟩ = |1,z,y⟩\n",
    "\"\"\"\n",
    "\n",
    "print(\"\\nCSWAP Dirac notation:\")\n",
    "print(dirac_notation)"
   ]
  },
  {
   "cell_type": "markdown",
   "id": "dbf72aad",
   "metadata": {},
   "source": [
    "### Derive the metric representation for Toffoli operation and also the Dirac notation."
   ]
  },
  {
   "cell_type": "code",
   "execution_count": 47,
   "id": "7a0f6ac5",
   "metadata": {},
   "outputs": [
    {
     "name": "stdout",
     "output_type": "stream",
     "text": [
      "Toffoli Quantum Circuit:\n",
      "          \n",
      "q_0: ──■──\n",
      "       │  \n",
      "q_1: ──■──\n",
      "     ┌─┴─┐\n",
      "q_2: ┤ X ├\n",
      "     └───┘\n",
      "\n",
      "Toffoli matrix representation:\n",
      "[[1.+0.j 0.+0.j 0.+0.j 0.+0.j 0.+0.j 0.+0.j 0.+0.j 0.+0.j]\n",
      " [0.+0.j 1.+0.j 0.+0.j 0.+0.j 0.+0.j 0.+0.j 0.+0.j 0.+0.j]\n",
      " [0.+0.j 0.+0.j 1.+0.j 0.+0.j 0.+0.j 0.+0.j 0.+0.j 0.+0.j]\n",
      " [0.+0.j 0.+0.j 0.+0.j 0.+0.j 0.+0.j 0.+0.j 0.+0.j 1.+0.j]\n",
      " [0.+0.j 0.+0.j 0.+0.j 0.+0.j 1.+0.j 0.+0.j 0.+0.j 0.+0.j]\n",
      " [0.+0.j 0.+0.j 0.+0.j 0.+0.j 0.+0.j 1.+0.j 0.+0.j 0.+0.j]\n",
      " [0.+0.j 0.+0.j 0.+0.j 0.+0.j 0.+0.j 0.+0.j 1.+0.j 0.+0.j]\n",
      " [0.+0.j 0.+0.j 0.+0.j 1.+0.j 0.+0.j 0.+0.j 0.+0.j 0.+0.j]]\n",
      "\n",
      "Toffoli Dirac notation:\n",
      "\n",
      "Toffoli |x,y,z⟩ = |x, y, z ⊕ (x·y)⟩\n",
      "\n",
      "Expanded:\n",
      "Toffoli |0,y,z⟩ = |0,y,z⟩\n",
      "Toffoli |1,0,z⟩ = |1,0,z⟩\n",
      "Toffoli |1,1,z⟩ = |1,1,¬z⟩\n",
      "\n"
     ]
    }
   ],
   "source": [
    "from qiskit import QuantumCircuit\n",
    "from qiskit.quantum_info import Operator\n",
    "\n",
    "qc = QuantumCircuit(3)\n",
    "\n",
    "# Applying Toffoli (CCX) gate\n",
    "qc.ccx(0, 1, 2)\n",
    "\n",
    "# Getting the matrix representation\n",
    "toffoli_matrix = Operator(qc).data\n",
    "\n",
    "print(\"Toffoli Quantum Circuit:\")\n",
    "print(qc)\n",
    "print(\"\\nToffoli matrix representation:\")\n",
    "print(toffoli_matrix)\n",
    "\n",
    "# Dirac notation\n",
    "dirac_notation = \"\"\"\n",
    "Toffoli |x,y,z⟩ = |x, y, z ⊕ (x·y)⟩\n",
    "\n",
    "Expanded:\n",
    "Toffoli |0,y,z⟩ = |0,y,z⟩\n",
    "Toffoli |1,0,z⟩ = |1,0,z⟩\n",
    "Toffoli |1,1,z⟩ = |1,1,¬z⟩\n",
    "\"\"\"\n",
    "\n",
    "print(\"\\nToffoli Dirac notation:\")\n",
    "print(dirac_notation)"
   ]
  },
  {
   "cell_type": "markdown",
   "id": "0f13c298",
   "metadata": {},
   "source": [
    "# End"
   ]
  }
 ],
 "metadata": {
  "kernelspec": {
   "display_name": "Python 3 (ipykernel)",
   "language": "python",
   "name": "python3"
  },
  "language_info": {
   "codemirror_mode": {
    "name": "ipython",
    "version": 3
   },
   "file_extension": ".py",
   "mimetype": "text/x-python",
   "name": "python",
   "nbconvert_exporter": "python",
   "pygments_lexer": "ipython3",
   "version": "3.11.9"
  }
 },
 "nbformat": 4,
 "nbformat_minor": 5
}
